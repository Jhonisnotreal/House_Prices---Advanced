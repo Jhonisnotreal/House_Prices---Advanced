{
 "cells": [
  {
   "cell_type": "code",
   "execution_count": 1,
   "metadata": {},
   "outputs": [],
   "source": [
    "import pandas as pd\n",
    "import numpy as np"
   ]
  },
  {
   "cell_type": "markdown",
   "metadata": {},
   "source": [
    "# Sample submission"
   ]
  },
  {
   "cell_type": "code",
   "execution_count": 4,
   "metadata": {},
   "outputs": [],
   "source": [
    "Sample = pd.read_csv('Datasets/sample_submission.csv')"
   ]
  },
  {
   "cell_type": "code",
   "execution_count": 6,
   "metadata": {},
   "outputs": [
    {
     "data": {
      "text/plain": [
       "Id           0\n",
       "SalePrice    0\n",
       "dtype: int64"
      ]
     },
     "execution_count": 6,
     "metadata": {},
     "output_type": "execute_result"
    }
   ],
   "source": [
    "Sample.isnull().sum()"
   ]
  },
  {
   "cell_type": "code",
   "execution_count": 43,
   "metadata": {},
   "outputs": [
    {
     "data": {
      "text/plain": [
       "[]"
      ]
     },
     "execution_count": 43,
     "metadata": {},
     "output_type": "execute_result"
    }
   ],
   "source": [
    "Sample.columns[Sample.isna().any()].tolist()"
   ]
  },
  {
   "cell_type": "code",
   "execution_count": 94,
   "metadata": {},
   "outputs": [
    {
     "data": {
      "text/plain": [
       "(1459, 2)"
      ]
     },
     "execution_count": 94,
     "metadata": {},
     "output_type": "execute_result"
    }
   ],
   "source": [
    "Sample.shape"
   ]
  },
  {
   "cell_type": "markdown",
   "metadata": {},
   "source": [
    "# Train"
   ]
  },
  {
   "cell_type": "code",
   "execution_count": 29,
   "metadata": {},
   "outputs": [
    {
     "data": {
      "text/plain": [
       "Id                 0\n",
       "MSSubClass         0\n",
       "MSZoning           0\n",
       "LotFrontage      259\n",
       "LotArea            0\n",
       "                ... \n",
       "MoSold             0\n",
       "YrSold             0\n",
       "SaleType           0\n",
       "SaleCondition      0\n",
       "SalePrice          0\n",
       "Length: 81, dtype: int64"
      ]
     },
     "execution_count": 29,
     "metadata": {},
     "output_type": "execute_result"
    }
   ],
   "source": [
    "Train = pd.read_csv('Datasets/train.csv')\n",
    "Train.isnull().sum()"
   ]
  },
  {
   "cell_type": "code",
   "execution_count": 30,
   "metadata": {},
   "outputs": [],
   "source": [
    "mean_lotfrontage = np.mean(Train['LotFrontage'])\n",
    "Train['LotFrontage'].fillna(mean_lotfrontage, inplace=True)"
   ]
  },
  {
   "cell_type": "code",
   "execution_count": 53,
   "metadata": {},
   "outputs": [
    {
     "data": {
      "text/plain": [
       "'Alley'"
      ]
     },
     "execution_count": 53,
     "metadata": {},
     "output_type": "execute_result"
    }
   ],
   "source": [
    "nulls = Train.columns[Train.isna().any()]\n",
    "nulls.any()"
   ]
  },
  {
   "cell_type": "code",
   "execution_count": 63,
   "metadata": {},
   "outputs": [
    {
     "data": {
      "text/plain": [
       "1369"
      ]
     },
     "execution_count": 63,
     "metadata": {},
     "output_type": "execute_result"
    }
   ],
   "source": [
    "Train['Alley'].isnull().sum()"
   ]
  },
  {
   "cell_type": "code",
   "execution_count": 62,
   "metadata": {},
   "outputs": [
    {
     "data": {
      "text/plain": [
       "(1460,)"
      ]
     },
     "execution_count": 62,
     "metadata": {},
     "output_type": "execute_result"
    }
   ],
   "source": [
    "Train['Alley'].shape"
   ]
  },
  {
   "cell_type": "code",
   "execution_count": 71,
   "metadata": {},
   "outputs": [
    {
     "data": {
      "text/plain": [
       "PoolQC          99.520548\n",
       "MiscFeature     96.301370\n",
       "Alley           93.767123\n",
       "Fence           80.753425\n",
       "MasVnrType      59.726027\n",
       "FireplaceQu     47.260274\n",
       "GarageType       5.547945\n",
       "GarageYrBlt      5.547945\n",
       "GarageQual       5.547945\n",
       "GarageCond       5.547945\n",
       "GarageFinish     5.547945\n",
       "BsmtFinType2     2.602740\n",
       "BsmtExposure     2.602740\n",
       "BsmtQual         2.534247\n",
       "BsmtFinType1     2.534247\n",
       "BsmtCond         2.534247\n",
       "MasVnrArea       0.547945\n",
       "Electrical       0.068493\n",
       "BsmtFullBath     0.000000\n",
       "BsmtHalfBath     0.000000\n",
       "dtype: float64"
      ]
     },
     "execution_count": 71,
     "metadata": {},
     "output_type": "execute_result"
    }
   ],
   "source": [
    "null_ratio = ((Train.isnull().sum() / len(Train))*100).sort_values(ascending=False)\n",
    "null_ratio.head(20)"
   ]
  },
  {
   "cell_type": "code",
   "execution_count": 73,
   "metadata": {},
   "outputs": [],
   "source": [
    "Train.drop(['PoolQC', 'MiscFeature', 'Alley', 'Fence', 'MasVnrType', 'FireplaceQu'], axis=1, inplace=True)"
   ]
  },
  {
   "cell_type": "code",
   "execution_count": 74,
   "metadata": {},
   "outputs": [
    {
     "data": {
      "text/plain": [
       "GarageType      5.547945\n",
       "GarageCond      5.547945\n",
       "GarageYrBlt     5.547945\n",
       "GarageFinish    5.547945\n",
       "GarageQual      5.547945\n",
       "BsmtFinType2    2.602740\n",
       "BsmtExposure    2.602740\n",
       "BsmtFinType1    2.534247\n",
       "BsmtCond        2.534247\n",
       "BsmtQual        2.534247\n",
       "MasVnrArea      0.547945\n",
       "Electrical      0.068493\n",
       "WoodDeckSF      0.000000\n",
       "BedroomAbvGr    0.000000\n",
       "2ndFlrSF        0.000000\n",
       "LowQualFinSF    0.000000\n",
       "GrLivArea       0.000000\n",
       "BsmtFullBath    0.000000\n",
       "BsmtHalfBath    0.000000\n",
       "FullBath        0.000000\n",
       "dtype: float64"
      ]
     },
     "execution_count": 74,
     "metadata": {},
     "output_type": "execute_result"
    }
   ],
   "source": [
    "null_ratio = ((Train.isnull().sum() / len(Train))*100).sort_values(ascending=False)\n",
    "null_ratio.head(20)"
   ]
  },
  {
   "cell_type": "code",
   "execution_count": 87,
   "metadata": {},
   "outputs": [
    {
     "data": {
      "text/plain": [
       "(1460, 75)"
      ]
     },
     "execution_count": 87,
     "metadata": {},
     "output_type": "execute_result"
    }
   ],
   "source": [
    "Train.shape"
   ]
  },
  {
   "cell_type": "code",
   "execution_count": 88,
   "metadata": {},
   "outputs": [],
   "source": [
    "Train.dropna(how='all', axis=0, inplace=True)"
   ]
  },
  {
   "cell_type": "code",
   "execution_count": 89,
   "metadata": {},
   "outputs": [
    {
     "data": {
      "text/plain": [
       "Id               0\n",
       "MSSubClass       0\n",
       "MSZoning         0\n",
       "LotFrontage      0\n",
       "LotArea          0\n",
       "                ..\n",
       "MoSold           0\n",
       "YrSold           0\n",
       "SaleType         0\n",
       "SaleCondition    0\n",
       "SalePrice        0\n",
       "Length: 75, dtype: int64"
      ]
     },
     "execution_count": 89,
     "metadata": {},
     "output_type": "execute_result"
    }
   ],
   "source": [
    "Train.isna().sum()"
   ]
  },
  {
   "cell_type": "code",
   "execution_count": 91,
   "metadata": {},
   "outputs": [],
   "source": [
    "Train.to_csv(\"Train.csv\")"
   ]
  },
  {
   "cell_type": "markdown",
   "metadata": {},
   "source": [
    "# Test"
   ]
  },
  {
   "cell_type": "code",
   "execution_count": 23,
   "metadata": {},
   "outputs": [
    {
     "data": {
      "text/plain": [
       "Id                 0\n",
       "MSSubClass         0\n",
       "MSZoning           4\n",
       "LotFrontage      227\n",
       "LotArea            0\n",
       "                ... \n",
       "MiscVal            0\n",
       "MoSold             0\n",
       "YrSold             0\n",
       "SaleType           1\n",
       "SaleCondition      0\n",
       "Length: 80, dtype: int64"
      ]
     },
     "execution_count": 23,
     "metadata": {},
     "output_type": "execute_result"
    }
   ],
   "source": [
    "Test = pd.read_csv('Datasets/test.csv')\n",
    "Test.isnull().sum()"
   ]
  },
  {
   "cell_type": "code",
   "execution_count": 33,
   "metadata": {},
   "outputs": [],
   "source": [
    "mean_lotfrontage = np.mean(Test['LotFrontage'])\n",
    "Test['LotFrontage'].fillna(mean_lotfrontage, inplace=True)"
   ]
  },
  {
   "cell_type": "code",
   "execution_count": 34,
   "metadata": {},
   "outputs": [
    {
     "data": {
      "text/plain": [
       "Id               0\n",
       "MSSubClass       0\n",
       "MSZoning         0\n",
       "LotFrontage      0\n",
       "LotArea          0\n",
       "                ..\n",
       "MiscVal          0\n",
       "MoSold           0\n",
       "YrSold           0\n",
       "SaleType         0\n",
       "SaleCondition    0\n",
       "Length: 80, dtype: int64"
      ]
     },
     "execution_count": 34,
     "metadata": {},
     "output_type": "execute_result"
    }
   ],
   "source": [
    "Test.dropna(subset=['MSZoning', 'SaleType'], inplace=True)\n",
    "Test.isnull().sum()"
   ]
  },
  {
   "cell_type": "code",
   "execution_count": 76,
   "metadata": {},
   "outputs": [
    {
     "data": {
      "text/plain": [
       "PoolQC          99.793673\n",
       "MiscFeature     96.492435\n",
       "Alley           92.640990\n",
       "Fence           80.055021\n",
       "MasVnrType      61.210454\n",
       "FireplaceQu     49.931224\n",
       "GarageCond       5.364512\n",
       "GarageQual       5.364512\n",
       "GarageYrBlt      5.364512\n",
       "GarageFinish     5.364512\n",
       "GarageType       5.226960\n",
       "BsmtCond         2.888583\n",
       "BsmtExposure     2.819807\n",
       "BsmtQual         2.819807\n",
       "BsmtFinType2     2.682256\n",
       "BsmtFinType1     2.682256\n",
       "MasVnrArea       1.031637\n",
       "BsmtFullBath     0.137552\n",
       "BsmtHalfBath     0.137552\n",
       "BsmtFinSF2       0.068776\n",
       "dtype: float64"
      ]
     },
     "execution_count": 76,
     "metadata": {},
     "output_type": "execute_result"
    }
   ],
   "source": [
    "null_ratio = ((Test.isnull().sum() / len(Test))*100).sort_values(ascending=False)\n",
    "null_ratio.head(20)"
   ]
  },
  {
   "cell_type": "code",
   "execution_count": 77,
   "metadata": {},
   "outputs": [],
   "source": [
    "Test.drop(['PoolQC', 'MiscFeature', 'Alley', 'Fence', 'MasVnrType', 'FireplaceQu'], axis=1, inplace=True)"
   ]
  },
  {
   "cell_type": "code",
   "execution_count": 79,
   "metadata": {},
   "outputs": [
    {
     "data": {
      "text/plain": [
       "GarageCond      5.364512\n",
       "GarageYrBlt     5.364512\n",
       "GarageFinish    5.364512\n",
       "GarageQual      5.364512\n",
       "GarageType      5.226960\n",
       "BsmtCond        2.888583\n",
       "BsmtExposure    2.819807\n",
       "BsmtQual        2.819807\n",
       "BsmtFinType2    2.682256\n",
       "BsmtFinType1    2.682256\n",
       "MasVnrArea      1.031637\n",
       "BsmtFullBath    0.137552\n",
       "BsmtHalfBath    0.137552\n",
       "BsmtFinSF1      0.068776\n",
       "BsmtFinSF2      0.068776\n",
       "BsmtUnfSF       0.068776\n",
       "Utilities       0.068776\n",
       "GarageArea      0.068776\n",
       "GarageCars      0.068776\n",
       "TotalBsmtSF     0.068776\n",
       "dtype: float64"
      ]
     },
     "execution_count": 79,
     "metadata": {},
     "output_type": "execute_result"
    }
   ],
   "source": [
    "null_ratio = ((Test.isnull().sum() / len(Test))*100).sort_values(ascending=False)\n",
    "null_ratio.head(20)"
   ]
  },
  {
   "cell_type": "code",
   "execution_count": 82,
   "metadata": {},
   "outputs": [],
   "source": [
    "Test.dropna(how='all', axis=0, inplace=True)"
   ]
  },
  {
   "cell_type": "code",
   "execution_count": 86,
   "metadata": {},
   "outputs": [
    {
     "data": {
      "text/plain": [
       "Id               0\n",
       "MSSubClass       0\n",
       "MSZoning         0\n",
       "LotFrontage      0\n",
       "LotArea          0\n",
       "                ..\n",
       "MiscVal          0\n",
       "MoSold           0\n",
       "YrSold           0\n",
       "SaleType         0\n",
       "SaleCondition    0\n",
       "Length: 74, dtype: int64"
      ]
     },
     "execution_count": 86,
     "metadata": {},
     "output_type": "execute_result"
    }
   ],
   "source": [
    "Test.isna().sum()"
   ]
  },
  {
   "cell_type": "code",
   "execution_count": 92,
   "metadata": {},
   "outputs": [],
   "source": [
    "Test.to_csv('Test.csv')"
   ]
  }
 ],
 "metadata": {
  "kernelspec": {
   "display_name": "Python 3",
   "language": "python",
   "name": "python3"
  },
  "language_info": {
   "codemirror_mode": {
    "name": "ipython",
    "version": 3
   },
   "file_extension": ".py",
   "mimetype": "text/x-python",
   "name": "python",
   "nbconvert_exporter": "python",
   "pygments_lexer": "ipython3",
   "version": "3.11.5"
  }
 },
 "nbformat": 4,
 "nbformat_minor": 2
}
